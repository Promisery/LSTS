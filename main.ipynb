{
 "cells": [
  {
   "cell_type": "code",
   "execution_count": null,
   "metadata": {},
   "outputs": [],
   "source": [
    "import torch\n",
    "from torch import nn\n",
    "from torch.nn import functional as F\n",
    "import numpy as np\n",
    "import pandas as pd\n",
    "from matplotlib import pyplot as plt\n",
    "import seaborn as sns\n",
    "from einops import rearrange\n",
    "from scipy.signal import find_peaks\n",
    "from entmax import entmax15\n",
    "\n",
    "from models import LSTS\n",
    "\n",
    "plt.rcParams.update({'font.size': 20, 'axes.linewidth': 3})"
   ]
  },
  {
   "cell_type": "code",
   "execution_count": null,
   "metadata": {},
   "outputs": [],
   "source": [
    "# Min-max normalization\n",
    "def norm(bvp):\n",
    "    return -1 + 2 * (bvp - bvp.min()) / (bvp.max() - bvp.min())\n",
    "\n",
    "# Find the last crest as the reference point\n",
    "def find_ref(bvp):\n",
    "    bvp = (bvp-np.mean(bvp))/np.std(bvp)\n",
    "    prominence = (1.5*np.std(bvp), None)\n",
    "    peak = find_peaks(bvp, prominence=prominence)[0]\n",
    "    return peak[-1]\n",
    "\n",
    "@torch.no_grad()\n",
    "def similarity(model, fn, data):    \n",
    "    x = data['frames'].unsqueeze(0) / 255.\n",
    "    y = data['waves'].numpy()\n",
    "    ref = find_ref(y)\n",
    "        \n",
    "    rep = fn(model, x)\n",
    "    sim = (F.cosine_similarity(rep[ref:ref+1], rep, dim=-1))\n",
    "    pred = model.predict(x).reshape(-1)\n",
    "    \n",
    "    return sim, pred\n",
    "\n",
    "def visualize(sim, y, pred):\n",
    "    ref = find_ref(y)\n",
    "    \n",
    "    norm_y = norm(y)\n",
    "    \n",
    "    data = np.stack([sim, norm_y, norm(pred)], axis=-1)\n",
    "    t = np.linspace(0, 6, 180, endpoint=False)\n",
    "\n",
    "    df = pd.DataFrame(data, t, columns=['Similarity', 'Ground Truth', 'Prediction'])\n",
    "    fig = plt.figure(figsize=(6, 4), dpi=200)\n",
    "    ax = sns.lineplot(df, palette=\"tab10\", linewidth=4, legend='brief')\n",
    "    plt.xlabel('t(s)')\n",
    "    plt.ylim([-1.5, 1.5])\n",
    "    plt.xlim(-0.5, 8)\n",
    "    plt.xticks([0, 2, 4, 6])\n",
    "    sns.move_legend(ax, \"lower right\")\n",
    "    plt.tight_layout()\n",
    "    plt.show()\n",
    "\n",
    "# Get the hidden representation before the final layer\n",
    "def lsts_fn(lsts, x):\n",
    "    x = lsts.preprocess(x)     \n",
    "    x = lsts.patch_embed(x)                  \n",
    "    x = lsts.pos_drop(lsts.pos_embed(x))\n",
    "    x = lsts.layers(x)\n",
    "    x = rearrange(x, 'n c d h w -> n d h w c')\n",
    "    x = lsts.norm(x)\n",
    "    x = rearrange(x, 'n d h w c -> n d (h w) c')\n",
    "    \n",
    "    attn_score = lsts.out_pooling(x)\n",
    "    attn_score = entmax15(attn_score, dim=2)\n",
    "    x = (x * attn_score).sum(dim=2)\n",
    "    x = x.squeeze(0)\n",
    "    return x\n",
    "\n",
    "def show_data(data):\n",
    "    frames = data['frames'].permute(0, 2, 3, 1).numpy()\n",
    "    fig = plt.figure(figsize=(6, 4), dpi=800)\n",
    "    for i in range(6):\n",
    "        ax = fig.add_subplot(1, 6, i+1)\n",
    "        img = frames[i*30]\n",
    "        ax.imshow(img)\n",
    "        ax.set_axis_off()\n",
    "        ax.set_title(f't={i}s')\n",
    "    plt.tight_layout()\n",
    "    plt.show()"
   ]
  },
  {
   "cell_type": "code",
   "execution_count": null,
   "metadata": {},
   "outputs": [],
   "source": [
    "lsts = LSTS()\n",
    "lsts.load_state_dict(torch.load('weights.pt'))\n",
    "lsts.eval()\n",
    "data = torch.load(R'data.pt')\n",
    "sim, pred = similarity(lsts, lsts_fn, data)\n",
    "y = data['waves'].numpy()"
   ]
  },
  {
   "cell_type": "code",
   "execution_count": null,
   "metadata": {},
   "outputs": [],
   "source": [
    "show_data(data)"
   ]
  },
  {
   "cell_type": "code",
   "execution_count": null,
   "metadata": {},
   "outputs": [],
   "source": [
    "visualize(sim, y, pred)"
   ]
  }
 ],
 "metadata": {
  "kernelspec": {
   "display_name": "Python 3.9.16 ('rppg')",
   "language": "python",
   "name": "python3"
  },
  "language_info": {
   "codemirror_mode": {
    "name": "ipython",
    "version": 3
   },
   "file_extension": ".py",
   "mimetype": "text/x-python",
   "name": "python",
   "nbconvert_exporter": "python",
   "pygments_lexer": "ipython3",
   "version": "3.9.16"
  },
  "orig_nbformat": 4,
  "vscode": {
   "interpreter": {
    "hash": "3654444ca526d06a6e552df2f9b286335131022de20a53c00b50e20c38b20907"
   }
  }
 },
 "nbformat": 4,
 "nbformat_minor": 2
}
